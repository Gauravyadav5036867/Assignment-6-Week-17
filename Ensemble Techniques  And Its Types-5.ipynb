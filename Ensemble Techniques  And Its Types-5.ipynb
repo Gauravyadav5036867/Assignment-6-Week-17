{
 "cells": [
  {
   "cell_type": "code",
   "execution_count": null,
   "id": "4361fde7-ea8e-4cf3-96ec-a5d182b115c1",
   "metadata": {},
   "outputs": [],
   "source": [
    "#Question 1\n",
    "\n",
    "\n",
    "\n",
    "\n",
    "\n",
    "\n"
   ]
  },
  {
   "cell_type": "code",
   "execution_count": null,
   "id": "5e7b8fc5-351a-4129-afd0-7c5e5c309ca8",
   "metadata": {},
   "outputs": [],
   "source": [
    "\n",
    "Build a pipeline that includes a random forest classifier and a logistic regression classifier, and then\n",
    "use a vot#ng class#ifier to combine their predictions. Train the pipeline on the iris dataset and evaluate #ts\n",
    "accuracy.\n",
    "\n",
    "\n",
    "\n",
    "\n",
    "\n",
    "\n",
    "\n",
    "\n",
    "\n",
    "\n",
    "\n",
    "\n",
    "\n",
    "\n",
    "\n",
    "\n",
    "\n",
    "\n",
    "\n",
    "\n",
    "\n",
    "\n",
    "\n"
   ]
  },
  {
   "cell_type": "code",
   "execution_count": null,
   "id": "c5e695c7-e118-4924-99f9-aee146a6e52a",
   "metadata": {},
   "outputs": [],
   "source": [
    "#Question 2\n",
    "\n",
    "\n",
    "\n",
    "\n",
    "\n"
   ]
  }
 ],
 "metadata": {
  "kernelspec": {
   "display_name": "Python 3 (ipykernel)",
   "language": "python",
   "name": "python3"
  },
  "language_info": {
   "codemirror_mode": {
    "name": "ipython",
    "version": 3
   },
   "file_extension": ".py",
   "mimetype": "text/x-python",
   "name": "python",
   "nbconvert_exporter": "python",
   "pygments_lexer": "ipython3",
   "version": "3.10.8"
  }
 },
 "nbformat": 4,
 "nbformat_minor": 5
}
